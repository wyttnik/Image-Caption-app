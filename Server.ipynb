{
  "nbformat": 4,
  "nbformat_minor": 0,
  "metadata": {
    "colab": {
      "provenance": []
    },
    "kernelspec": {
      "name": "python3",
      "display_name": "Python 3"
    },
    "language_info": {
      "name": "python"
    }
  },
  "cells": [
    {
      "cell_type": "code",
      "source": [
        "!pip install pyngrok\n",
        "!ngrok authtoken # write down your auth token here #"
      ],
      "metadata": {
        "colab": {
          "base_uri": "https://localhost:8080/"
        },
        "id": "2-cf2WZX52H3",
        "outputId": "1a1cde19-303f-4dde-9783-3317a88250fc"
      },
      "execution_count": 1,
      "outputs": [
        {
          "output_type": "stream",
          "name": "stdout",
          "text": [
            "Collecting pyngrok\n",
            "  Downloading pyngrok-7.1.6-py3-none-any.whl (22 kB)\n",
            "Requirement already satisfied: PyYAML>=5.1 in /usr/local/lib/python3.10/dist-packages (from pyngrok) (6.0.1)\n",
            "Installing collected packages: pyngrok\n",
            "Successfully installed pyngrok-7.1.6\n",
            "Authtoken saved to configuration file: /root/.config/ngrok/ngrok.yml\n"
          ]
        }
      ]
    },
    {
      "cell_type": "code",
      "source": [
        "from PIL import Image\n",
        "from flask import Flask, request\n",
        "from pyngrok import ngrok\n",
        "\n",
        "import torch\n",
        "import numpy as np\n",
        "import torchvision.transforms as transforms\n",
        "from skimage.io import imread\n",
        "from skimage.transform import resize as imresize\n",
        "\n",
        "from google.colab import drive\n",
        "drive.mount('/content/drive')"
      ],
      "metadata": {
        "id": "qnEE8NoG5VE5"
      },
      "execution_count": 2,
      "outputs": []
    },
    {
      "cell_type": "code",
      "source": [
        "def image_preprocess(filepath):\n",
        "  img = np.array(Image.open(filepath))\n",
        "  if len(img.shape) == 2:\n",
        "      img = img[:, :, np.newaxis]\n",
        "      img = np.concatenate([img, img, img], axis=2)\n",
        "  img = imresize(img, (256, 256)) # constant', 'edge', 'symmetric', 'reflect', 'wrap'\n",
        "  img = img.transpose(2, 0, 1)\n",
        "  # img = img / 255.\n",
        "  img = torch.FloatTensor(img) # .to(device)\n",
        "  normalize = transforms.Normalize(mean=[0.485, 0.456, 0.406],\n",
        "                                    std=[0.229, 0.224, 0.225])\n",
        "  transform = transforms.Compose([normalize])\n",
        "  imagexx = transform(img)  # (3, 256, 256)\n",
        "\n",
        "  return imagexx.unsqueeze(0)"
      ],
      "metadata": {
        "id": "eXpcwOcGdwVm"
      },
      "execution_count": 3,
      "outputs": []
    },
    {
      "cell_type": "code",
      "source": [
        "model = torch.jit.load('drive/MyDrive/caption_model/test_ic111.pt')\n",
        "_ = model.eval()\n"
      ],
      "metadata": {
        "id": "3SddPP6Qe5Ba",
        "collapsed": true
      },
      "execution_count": 4,
      "outputs": []
    },
    {
      "cell_type": "code",
      "source": [
        "app = Flask(__name__)\n",
        "public_url = ngrok.connect(\"5000\", domain = \"expert-smoothly-insect.ngrok-free.app\")\n",
        "app.config[\"BASE_URL\"] = public_url\n",
        "print(f\" * ngrok tunnel \\\"{public_url}\\\" -> \\\"http://127.0.0.1:5000\\ \")\n",
        "\n",
        "@app.route(\"/imageUpload\", methods = ['POST'])\n",
        "def processImage():\n",
        "    f = request.files['image']\n",
        "    return {\"answer\": model(image_preprocess(f), 3)}\n",
        "\n",
        "app.run()"
      ],
      "metadata": {
        "colab": {
          "base_uri": "https://localhost:8080/"
        },
        "id": "cJUN8DId7My-",
        "outputId": "629c75f7-75e1-4912-8255-3b662cef54be"
      },
      "execution_count": 6,
      "outputs": [
        {
          "output_type": "stream",
          "name": "stdout",
          "text": [
            " * ngrok tunnel \"NgrokTunnel: \"https://expert-smoothly-insect.ngrok-free.app\" -> \"http://localhost:5000\"\" -> \"http://127.0.0.1:5000\\ \n",
            " * Serving Flask app '__main__'\n",
            " * Debug mode: off\n"
          ]
        },
        {
          "output_type": "stream",
          "name": "stderr",
          "text": [
            "INFO:werkzeug:\u001b[31m\u001b[1mWARNING: This is a development server. Do not use it in a production deployment. Use a production WSGI server instead.\u001b[0m\n",
            " * Running on http://127.0.0.1:5000\n",
            "INFO:werkzeug:\u001b[33mPress CTRL+C to quit\u001b[0m\n",
            "INFO:werkzeug:127.0.0.1 - - [02/Jun/2024 04:40:14] \"POST /imageUpload HTTP/1.1\" 200 -\n",
            "INFO:werkzeug:127.0.0.1 - - [02/Jun/2024 04:40:24] \"POST /imageUpload HTTP/1.1\" 200 -\n",
            "WARNING:pyngrok.process.ngrok:t=2024-06-02T04:40:30+0000 lvl=warn msg=\"Stopping forwarder\" name=http-5000-4ae49887-d704-4e13-8892-a382a7dcb101 acceptErr=\"failed to accept connection: Listener closed\"\n"
          ]
        }
      ]
    },
    {
      "cell_type": "code",
      "source": [
        "ngrok.get_tunnels()"
      ],
      "metadata": {
        "colab": {
          "base_uri": "https://localhost:8080/"
        },
        "id": "NKM5StaWutdZ",
        "outputId": "7c9a0165-a096-4556-be40-03f589ab25de"
      },
      "execution_count": null,
      "outputs": [
        {
          "output_type": "execute_result",
          "data": {
            "text/plain": [
              "[<NgrokTunnel: \"https://expert-smoothly-insect.ngrok-free.app\" -> \"http://localhost:5000\">]"
            ]
          },
          "metadata": {},
          "execution_count": 57
        }
      ]
    },
    {
      "cell_type": "code",
      "source": [
        "ngrok.kill()"
      ],
      "metadata": {
        "id": "u3QoD8D0uEDD"
      },
      "execution_count": null,
      "outputs": []
    }
  ]
}